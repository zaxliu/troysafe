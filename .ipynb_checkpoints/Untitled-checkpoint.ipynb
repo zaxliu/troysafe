{
 "cells": [
  {
   "cell_type": "code",
   "execution_count": 5,
   "metadata": {
    "collapsed": false
   },
   "outputs": [
    {
     "ename": "ImportError",
     "evalue": "No module named lxml",
     "output_type": "error",
     "traceback": [
      "\u001b[1;31m---------------------------------------------------------------------------\u001b[0m",
      "\u001b[1;31mImportError\u001b[0m                               Traceback (most recent call last)",
      "\u001b[1;32m<ipython-input-5-980801461e16>\u001b[0m in \u001b[0;36m<module>\u001b[1;34m()\u001b[0m\n\u001b[1;32m----> 1\u001b[1;33m \u001b[1;32mfrom\u001b[0m \u001b[0mlxml\u001b[0m \u001b[1;32mimport\u001b[0m \u001b[0mhtml\u001b[0m\u001b[1;33m\u001b[0m\u001b[0m\n\u001b[0m\u001b[0;32m      2\u001b[0m \u001b[1;32mimport\u001b[0m \u001b[0mrequests\u001b[0m\u001b[1;33m\u001b[0m\u001b[0m\n",
      "\u001b[1;31mImportError\u001b[0m: No module named lxml"
     ]
    }
   ],
   "source": [
    "from lxml import html\n",
    "import requests"
   ]
  },
  {
   "cell_type": "code",
   "execution_count": 1,
   "metadata": {
    "collapsed": true
   },
   "outputs": [],
   "source": [
    "from pdfminer.pdfinterp import PDFResourceManager, PDFPageInterpreter\n",
    "from pdfminer.converter import TextConverter\n",
    "from pdfminer.layout import LAParams\n",
    "from pdfminer.pdfpage import PDFPage\n",
    "from cStringIO import StringIO"
   ]
  },
  {
   "cell_type": "code",
   "execution_count": 2,
   "metadata": {
    "collapsed": true
   },
   "outputs": [],
   "source": [
    "def convert_pdf_to_txt(path):\n",
    "    rsrcmgr = PDFResourceManager()\n",
    "    retstr = StringIO()\n",
    "    codec = 'utf-8'\n",
    "    laparams = LAParams()\n",
    "    device = TextConverter(rsrcmgr, retstr, codec=codec, laparams=laparams)\n",
    "    fp = file(path, 'rb')\n",
    "    interpreter = PDFPageInterpreter(rsrcmgr, device)\n",
    "    password = \"\"\n",
    "    maxpages = 0\n",
    "    caching = True\n",
    "    pagenos=set()\n",
    "\n",
    "    for page in PDFPage.get_pages(fp, pagenos, maxpages=maxpages, password=password,caching=caching, check_extractable=True):\n",
    "        interpreter.process_page(page)\n",
    "\n",
    "    text = retstr.getvalue()\n",
    "\n",
    "    fp.close()\n",
    "    device.close()\n",
    "    retstr.close()\n",
    "    return text"
   ]
  },
  {
   "cell_type": "code",
   "execution_count": 4,
   "metadata": {
    "collapsed": true
   },
   "outputs": [
    {
     "data": {
      "text/plain": [
       "\"University of Southern California\\n\\nDepartment of Public Safety\\n\\nDaily Incident Log\\n\\nFrom 1/27/2016 To 1/29/2016\\n\\nReported:\\n\\n1/27/16\\n\\n-\\n\\n 9:26 pm\\n\\nLocation:\\n\\nKECK HOSPITAL OF USC\\n\\nReport #:\\n\\n1600310\\n\\nOccurred:\\n\\n1/27/16\\n\\n-\\n\\n 9:26 pm\\n\\nto\\n\\n1/27/16\\n\\n-\\n\\n 9:38 pm\\n\\nDisposition:\\n\\nOpen\\n\\nALARM RESPONSE\\n\\nIncident:\\nSummary: A radiation alarm was activated by the contents of a trash bag.\\n\\nEnvironmental Alarm\\n\\ncc: Safety\\n\\nReported:\\n\\n1/28/16\\n\\n-\\n\\n 8:18 am\\n\\nLocation:\\n\\nCECELE & MICHAEL BIRNKRANT RESIDENCE \\nHALL\\n\\nReport #:\\n\\n1600317\\n\\nOccurred:\\n\\n1/28/16\\n\\n-\\n\\n 8:18 am\\n\\nto\\n\\n1/28/16\\n\\n-\\n\\n 9:23 am\\n\\nDisposition:\\n\\nOpen\\n\\nIncident:\\nSummary:\\n\\nSERVICE\\nLA City paramedics treated a male student for illness.\\n\\nIllness Response\\n\\ncc: Student Affairs\\n\\nReported:\\n\\n1/28/16\\n\\n-\\n\\n 9:00 am\\n\\nLocation:\\n\\nELISABETH VON KLEINSMID MEMORIAL \\nRESIDENCE HALL\\n\\nReport #:\\n\\n1600318\\n\\nOccurred:\\n\\n1/28/16\\n\\n-\\n\\n12:05 am\\n\\nto\\n\\n1/28/16\\n\\n-\\n\\n12:15 am\\n\\nDisposition:\\n\\nOpen\\n\\nSERVICE\\n\\nIncident:\\nSummary: A female student was transported to the student health center for a foot injury.\\n\\nInjury Response\\n\\ncc: Student Affairs and Risk Management\\n\\nReported:\\n\\n1/28/16\\n\\n-\\n\\n10:39 am\\n\\nLocation:\\n\\nPARKING STRUCTURE D\\n\\nReport #:\\n\\n1600319\\n\\nOccurred:\\n\\n1/27/16\\n\\n-\\n\\n 5:40 pm\\n\\nto\\n\\n1/27/16\\n\\n-\\n\\n 5:40 pm\\n\\nDisposition:\\n\\nOpen\\n\\nPROPERTY\\n\\nIncident:\\nSummary: A staff member reported damage to her vehicle.\\n\\nDamaged Property\\n\\nReported:\\n\\n1/28/16\\n\\n-\\n\\n11:52 am\\n\\nLocation:\\n\\nPHYSICAL EDUCATION BUILDING\\n\\nReport #:\\n\\n1600320\\n\\nOccurred:\\n\\n1/28/16\\n\\n-\\n\\n11:52 am\\n\\nto\\n\\n1/28/16\\n\\n-\\n\\n12:37 pm\\n\\nDisposition:\\n\\nOpen\\n\\nEH&S\\n\\nIncident:\\nSummary: FMS responded to a water leak in the mens restroom.\\n\\nWater Leak\\n\\nReported:\\n\\n1/28/16\\n\\n-\\n\\n11:47 am\\n\\nLocation:\\n\\nMARK TAPER HALL OF HUMANITIES\\n\\nReport #:\\n\\n1600321\\n\\nOccurred:\\n\\n1/28/16\\n\\n-\\n\\n11:47 am\\n\\nto\\n\\n1/28/16\\n\\n-\\n\\n12:54 pm\\n\\nDisposition:\\n\\nOpen\\n\\nSERVICE\\n\\nIncident:\\nSummary: A credit card left in an envelope was taped to a door was intended for a specific person and later discovered missing.\\n\\nSuspicious Circumstances\\n\\nReported:\\n\\n1/28/16\\n\\n-\\n\\n12:03 pm\\n\\nLocation:\\n\\nWAITE PHILLIPS HALL OF EDUCATION\\n\\nReport #:\\n\\n1600322\\n\\nOccurred:\\n\\n1/28/16\\n\\n-\\n\\n12:03 pm\\n\\nto\\n\\n1/28/16\\n\\n-\\n\\n12:57 pm\\n\\nDisposition:\\n\\nCLOSED\\n\\nVANDALISM\\n\\nIncident:\\nSummary: Unknown suspect wrote graffiti in the mens restroom.\\n\\nVandalism-Misdemeanor\\n\\n\\x0cUniversity of Southern California\\n\\nDepartment of Public Safety\\n\\nDaily Incident Log\\n\\nFrom 1/27/2016 To 1/29/2016\\n\\nReported:\\n\\n1/28/16\\n\\n-\\n\\n10:32 am\\n\\nLocation:\\n\\nTROY HALL\\n\\nReport #:\\n\\n1600323\\n\\nOccurred:\\n\\n1/28/16\\n\\n-\\n\\n10:32 am\\n\\nto\\n\\n1/28/16\\n\\n-\\n\\n10:32 am\\n\\nDisposition:\\n\\nOpen\\n\\nSERVICE\\n\\nIncident:\\nSummary: At the request of the parents, officers made contact with a resident. The resident was transported to a healthcare facility.\\n\\nWelfare Check\\n\\nReported:\\n\\n1/28/16\\n\\n-\\n\\n11:04 am\\n\\nLocation:\\n\\nELISABETH VON KLEINSMID MEMORIAL \\nRESIDENCE HALL\\n\\nReport #:\\n\\n1600324\\n\\nOccurred:\\n\\n1/27/16\\n\\n-\\n\\n11:45 pm\\n\\nto\\n\\n1/28/16\\n\\n-\\n\\n 6:00 pm\\n\\nDisposition:\\n\\nOpen\\n\\nSERVICE\\n\\nIncident:\\nSummary: A female student was transported to the student health center after spraining her ankle.\\n\\nInjury Response\\n\\ncc: Student Affairs\\n\\nReported:\\n\\n1/28/16\\n\\n-\\n\\n 3:43 pm\\n\\nLocation:\\n\\nPERTUSATI UNIVERSITY BOOKSTORE\\n\\nReport #:\\n\\n1600325\\n\\nOccurred:\\n\\n1/28/16\\n\\n-\\n\\n 3:43 pm\\n\\nto\\n\\n1/28/16\\n\\n-\\n\\n 3:44 pm\\n\\nDisposition:\\n\\nOpen\\n\\nPROPERTY\\n\\nIncident:\\nSummary: U.S. Currency was booked into the DPS lost and found.\\n\\nRecovered Property Without a Crime\\n\\nReported:\\n\\n1/28/16\\n\\n-\\n\\n 3:52 pm\\n\\nLocation:\\n\\nKECK HOSPITAL OF USC\\n\\nReport #:\\n\\n1600326\\n\\nOccurred:\\n\\n1/28/16\\n\\n-\\n\\n 3:52 pm\\n\\nto\\n\\n1/28/16\\n\\n-\\n\\n 4:08 pm\\n\\nDisposition:\\n\\nOpen\\n\\nSERVICE\\n\\nIncident:\\nSummary: Rapid Response Team responded to a visitor feeling disoriented and hot. The visitor was later released after feeling better.\\n\\nIllness Response\\n\\nReported:\\n\\n1/28/16\\n\\n-\\n\\n 3:43 pm\\n\\nLocation:\\n\\nPERTUSATI UNIVERSITY BOOKSTORE\\n\\nReport #:\\n\\n1600327\\n\\nOccurred:\\n\\n1/28/16\\n\\n-\\n\\n 3:43 pm\\n\\nto\\n\\n1/28/16\\n\\n-\\n\\n 4:25 pm\\n\\nDisposition:\\n\\nOpen\\n\\nSERVICE\\n\\nIncident:\\nSummary: A female student was transported to the student health center after being struck by a male on a skateboard.\\n\\nInjury Response\\n\\ncc: Student Affairs\\n\\nReported:\\n\\n1/28/16\\n\\n-\\n\\n 7:18 pm\\n\\nLocation:\\n\\nROGER AND MICHELE DEDEAUX ENGEMANN \\nSTUDENT HEALTH CENTER\\n\\nReport #:\\n\\n1600328\\n\\nOccurred:\\n\\n1/28/16\\n\\n-\\n\\n 7:18 pm\\n\\nto\\n\\n1/28/16\\n\\n-\\n\\n 8:46 pm\\n\\nDisposition:\\n\\nOpen\\n\\nSERVICE\\n\\nIllness Response\\nIncident:\\nSummary: A female student was transported to a local hospital for illness.\\n\\ncc: Student Affairs\\n\\nReported:\\n\\n1/28/16\\n\\n-\\n\\n 8:27 pm\\n\\nLocation:\\n\\n1175 29TH ST\\n\\nReport #:\\n\\n1600329\\n\\nOccurred:\\n\\n1/15/16\\n\\n-\\n\\n 8:13 pm\\n\\nto\\n\\n1/28/16\\n\\n-\\n\\n 9:34 pm\\n\\nDisposition:\\n\\nOpen\\n\\nSERVICE\\n\\nIncident:\\nSummary: Female students reported unwanted attentions from an Uber driver.\\n\\nSuspicious Circumstances\\n\\ncc: Student Affairs\\n\\n\\x0cUniversity of Southern California\\n\\nDepartment of Public Safety\\n\\nDaily Incident Log\\n\\nFrom 1/27/2016 To 1/29/2016\\n\\nReported:\\n\\n1/28/16\\n\\n-\\n\\n 8:03 pm\\n\\nLocation:\\n\\n1110 30TH ST\\n\\nReport #:\\n\\n1600330\\n\\nOccurred:\\n\\n1/26/16\\n\\n-\\n\\n10:00 pm\\n\\nto\\n\\n1/28/16\\n\\n-\\n\\n 8:30 pm\\n\\nDisposition:\\n\\nOpen\\n\\nBURGLARY\\n\\nIncident:\\nSummary: Unknown suspect entered a resident's unlocked door and removed a camera.\\n\\nBurglary-Residential\\n\\nReported:\\n\\n1/28/16\\n\\n-\\n\\n10:52 pm\\n\\nLocation:\\n\\nTROJAN RESIDENCE HALL\\n\\nReport #:\\n\\n1600331\\n\\nOccurred:\\n\\n1/28/16\\n\\n-\\n\\n10:52 pm\\n\\nto\\n\\n1/28/16\\n\\n-\\n\\n11:25 pm\\n\\nDisposition:\\n\\nOpen\\n\\nEH&S\\n\\nIncident:\\nSummary: Residents were cited for use of marijuana and alcohol.\\n\\nSmell of Smoke, Odor, Non-Fire\\n\\ncc: Student Affairs\\n\\nReported:\\n\\n1/28/16\\n\\n-\\n\\n11:43 pm\\n\\nLocation:\\n\\nVAGABOND MOTEL\\n\\nReport #:\\n\\n1600332\\n\\nOccurred:\\n\\n1/28/16\\n\\n-\\n\\n11:43 pm\\n\\nto\\n\\n1/29/16\\n\\n-\\n\\n12:36 am\\n\\nDisposition:\\n\\nOpen\\n\\nSERVICE\\n\\nIncident:\\nSummary: Male student was transported to a local hospital due to illness.\\n\\nMedical Escort\\n\\ncc: Student Affairs\\n\\nReported:\\n\\n1/29/16\\n\\n-\\n\\n 2:33 am\\n\\nLocation:\\n\\nUNIVERSITY RESIDENCE HALL\\n\\nReport #:\\n\\n1600333\\n\\nOccurred:\\n\\n1/29/16\\n\\n-\\n\\n 2:28 am\\n\\nto\\n\\n1/29/16\\n\\n-\\n\\n 2:58 am\\n\\nDisposition:\\n\\nOpen\\n\\nOBSCENE ACTIVITY\\n\\nIncident:\\nSummary: Female student reported receiving phone calls from an unknown male.\\n\\nObscene, Annoying, Threatening Phone Calls\\n\\ncc: Student Affairs\\n\\nReported:\\n\\n1/29/16\\n\\n-\\n\\n 1:29 am\\n\\nLocation:\\n\\n30TH ST & FIGUEROA ST\\n\\nReport #:\\n\\n1600334\\n\\nOccurred:\\n\\n1/29/16\\n\\n-\\n\\n 1:29 am\\n\\nto\\n\\n1/29/16\\n\\n-\\n\\n 3:29 am\\n\\nDisposition:\\n\\nOpen\\n\\nDISTURBANCE\\n\\nIncident:\\nSummary: Two male students were involved in a physical confrontation. Alcohol related. No injuries.\\n\\nDisturbing The Peace\\n\\ncc: Student Affairs\\n\\n\\x0c\""
      ]
     },
     "execution_count": 4,
     "metadata": {},
     "output_type": "execute_result"
    }
   ],
   "source": [
    "path = \"./012916.pdf\"\n",
    "convert_pdf_to_txt(path)"
   ]
  }
 ],
 "metadata": {
  "kernelspec": {
   "display_name": "Python 2",
   "language": "python",
   "name": "python2"
  },
  "language_info": {
   "codemirror_mode": {
    "name": "ipython",
    "version": 2
   },
   "file_extension": ".py",
   "mimetype": "text/x-python",
   "name": "python",
   "nbconvert_exporter": "python",
   "pygments_lexer": "ipython2",
   "version": "2.7.9"
  }
 },
 "nbformat": 4,
 "nbformat_minor": 0
}
